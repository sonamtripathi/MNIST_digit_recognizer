{
 "cells": [
  {
   "cell_type": "code",
   "execution_count": 1,
   "metadata": {},
   "outputs": [],
   "source": [
    "import numpy as np\n",
    "import matplotlib.pyplot as plt"
   ]
  },
  {
   "cell_type": "code",
   "execution_count": 2,
   "metadata": {},
   "outputs": [],
   "source": [
    "def softmax(z):\n",
    "    cache = z\n",
    "    z -= np.max(z)\n",
    "    sm = (np.exp(z).T/ np.sum(np.exp(z), axis = 1))\n",
    "    return(sm,cache)"
   ]
  },
  {
   "cell_type": "code",
   "execution_count": 3,
   "metadata": {},
   "outputs": [],
   "source": [
    "def relu(z):\n",
    "    \"\"\"\n",
    "        param: z\n",
    "    \"\"\"\n",
    "    s = np.maximum(0, z)\n",
    "    cache = z\n",
    "    return(s,cache)"
   ]
  },
  {
   "cell_type": "code",
   "execution_count": 4,
   "metadata": {},
   "outputs": [],
   "source": [
    "def softmax_backward(dA, cache):\n",
    "    \"\"\"\n",
    "        param: dA:\n",
    "        :param: activation_cache:\n",
    "    \"\"\"\n",
    "    z = cache\n",
    "    z -= np.max(z)\n",
    "    s = (np.exp(z).T/ np.sum(np.exp(z), axis = 1))\n",
    "    dZ = dA * s * (1-s)\n",
    "    return(dZ)"
   ]
  },
  {
   "cell_type": "code",
   "execution_count": 5,
   "metadata": {},
   "outputs": [],
   "source": [
    "def relu_backward(dA, cache):\n",
    "    \"\"\"\n",
    "        :param dA:\n",
    "        :param activation_cache:\n",
    "    \"\"\"\n",
    "    Z = cache\n",
    "    dZ = np.array(dA, copy = True) \n",
    "    dZ[Z <=0] = 0\n",
    "    return(dZ)"
   ]
  },
  {
   "cell_type": "code",
   "execution_count": 6,
   "metadata": {},
   "outputs": [],
   "source": [
    "def initialize_parameters_deep(dims):\n",
    "    \n",
    "    np.random.seed(3)\n",
    "    params = {}\n",
    "    L = len(dims)\n",
    "    \n",
    "    for l in range(1, L):\n",
    "        params['W' + str(l)] = np.random.randn(dims[l], dims[l-1]) * 0.01\n",
    "        params['b' + str(l)] = np.zeros((dims[l],1))\n",
    "    return(params)"
   ]
  },
  {
   "cell_type": "code",
   "execution_count": 7,
   "metadata": {},
   "outputs": [],
   "source": [
    "def linear_forward(A, W, b):\n",
    "    \n",
    "    Z = np.dot(W, A) + b\n",
    "    cache = (A, W, b)\n",
    "    return(Z,cache)"
   ]
  },
  {
   "cell_type": "code",
   "execution_count": 8,
   "metadata": {},
   "outputs": [],
   "source": [
    "def linear_activation_forward(A_prev, W, b, activation):\n",
    "    \n",
    "    if activation == \"softmax\":\n",
    "        Z, linear_cache = linear_forward(A_prev, W, b)\n",
    "        A, activation_cache = softmax(Z.T)\n",
    "   \n",
    "    elif activation == \"relu\":\n",
    "        Z, linear_cache = linear_forward(A_prev, W, b)\n",
    "        A, activation_cache = relu(Z)\n",
    "    \n",
    "    cache = (linear_cache, activation_cache)\n",
    "    return(A, cache)\n",
    "    "
   ]
  },
  {
   "cell_type": "code",
   "execution_count": 9,
   "metadata": {},
   "outputs": [],
   "source": [
    "def L_model_forward(X, params):\n",
    "    \"\"\"\n",
    "    :param X:\n",
    "    :param params:\n",
    "    :return:\n",
    "    \"\"\"\n",
    "\n",
    "    caches = []\n",
    "    A = X\n",
    "    L = len(params) // 2  # number of layers in the neural network\n",
    "\n",
    "    # Implement [LINEAR -> RELU]*(L-1). Add \"cache\" to the \"caches\" list.\n",
    "    for l in range(1, L):\n",
    "        A_prev = A\n",
    "        A, cache = linear_activation_forward(A_prev,\n",
    "                                             params[\"W\" + str(l)],\n",
    "                                             params[\"b\" + str(l)],\n",
    "                                             activation='relu')\n",
    "        caches.append(cache)\n",
    "\n",
    "    A_last, cache = linear_activation_forward(A,\n",
    "                                              params[\"W\" + str(L)],\n",
    "                                              params[\"b\" + str(L)],\n",
    "                                              activation='softmax')\n",
    "    caches.append(cache)\n",
    "    return(A_last, caches)"
   ]
  },
  {
   "cell_type": "code",
   "execution_count": 10,
   "metadata": {},
   "outputs": [],
   "source": [
    "def compute_cost(A_last, Y):\n",
    "    m = Y.shape[1]\n",
    "    cost = (-1/m) * np.sum(Y * np.log(A_last))\n",
    "    cost = np.squeeze(cost)\n",
    "    return(cost)"
   ]
  },
  {
   "cell_type": "code",
   "execution_count": 11,
   "metadata": {},
   "outputs": [],
   "source": [
    "def linear_backward(dZ, cache):\n",
    "    \n",
    "    A_prev ,W, b = cache\n",
    "    m = A_prev.shape[1]\n",
    "    \n",
    "    dW = (1. / m) * np.dot(dZ, cache[0].T)\n",
    "    db = (1. / m) * np.sum(dZ, axis = 1, keepdims = True)\n",
    "    dA_prev = np.dot(cache[1].T, dZ)\n",
    "    \n",
    "    return(dA_prev, dW, db)"
   ]
  },
  {
   "cell_type": "code",
   "execution_count": 12,
   "metadata": {},
   "outputs": [],
   "source": [
    "def linear_activation_backward(dA, cache, activation):\n",
    "   \n",
    "    linear_cache, activation_cache = cache\n",
    "    \n",
    "    if activation == \"relu\":\n",
    "        dZ = relu_backward(dA, activation_cache)\n",
    "        dA_prev, dW, db = linear_backward(dZ, linear_cache)\n",
    "        \n",
    "    elif activation == \"softmax\":\n",
    "        dZ = softmax_backward(dA, activation_cache)\n",
    "        dA_prev, dW, db = linear_backward(dZ, linear_cache)\n",
    "        \n",
    "    return(dA_prev, dW, db)    "
   ]
  },
  {
   "cell_type": "code",
   "execution_count": 13,
   "metadata": {},
   "outputs": [],
   "source": [
    "def L_model_backward(A_last, Y, caches):\n",
    "    \n",
    "    grads = {}\n",
    "    L = len(caches)\n",
    "    m = A_last.shape[1]\n",
    "    Y = Y.reshape(A_last.shape) # After this line, Y is the same shape as A_last\n",
    "    dA_last = -(np.divide(Y, A_last) - np.divide(1 - Y, 1 - A_last))\n",
    "    current_cache = caches[-1]\n",
    "    grads[\"dA\" + str(L)], grads[\"dW\" + str(L)], grads[\"db\" + str(L)] = linear_activation_backward(dA_last, \n",
    "                                                                                                  current_cache,\n",
    "                                                                                                  activation = \"softmax\")\n",
    "    \n",
    "    for l in reversed(range(L - 1)):\n",
    "        current_cache = caches[l]\n",
    "        dA_prev_temp, dW_temp, db_temp = linear_activation_backward(grads[\"dA\" + str(l + 2)], current_cache,\n",
    "                                                                   activation = \"relu\")\n",
    "        grads[\"dA\" + str(l + 1)] = dA_prev_temp\n",
    "        grads[\"dW\" + str(l + 1)] = dW_temp\n",
    "        grads[\"db\" + str(l + 1)] = db_temp\n",
    "        \n",
    "    return(grads)"
   ]
  },
  {
   "cell_type": "code",
   "execution_count": 14,
   "metadata": {},
   "outputs": [],
   "source": [
    "def update_params(params , grads, alpha):\n",
    "    L = len(params) // 2\n",
    "    for l in range(L):\n",
    "        params[\"W\" + str(l + 1)] = params[\"W\" + str(l + 1)] - alpha * grads[\"dW\" + str(l + 1)]\n",
    "        params[\"b\" + str(l + 1)] = params[\"b\" + str(l + 1)] - alpha * grads[\"db\" + str(l + 1)]\n",
    "        \n",
    "    return(params)"
   ]
  },
  {
   "cell_type": "code",
   "execution_count": 15,
   "metadata": {},
   "outputs": [],
   "source": [
    "def model_DL( X, Y, Y_real, test_x, test_y, layers_dims, alpha, num_iterations, print_cost):  # lr was 0.009\n",
    "    \"\"\"\n",
    "    Implements a L-layer neural network: [LINEAR->RELU]*(L-1)->LINEAR->SIGMOID.\n",
    "    Arguments:\n",
    "    X -- data, numpy array of shape (number of examples, num_px * num_px * 3)\n",
    "    Y -- true \"label\" vector (containing 0 if cat, 1 if non-cat), of shape (1, number of examples)\n",
    "    layers_dims -- list containing the input size and each layer size, of length (number of layers + 1).\n",
    "    alpha -- learning rate of the gradient descent update rule\n",
    "    num_iterations -- number of iterations of the optimization loop\n",
    "    print_cost -- if True, it prints the cost every 100 steps\n",
    "    Returns:\n",
    "    params -- params learnt by the model. They can then be used to predict.\n",
    "    \"\"\"\n",
    "\n",
    "    print(\"Deep Network Result:\")\n",
    "    np.random.seed(1)\n",
    "    costs = []  # keep track of cost\n",
    "\n",
    "    params = initialize_parameters_deep(layers_dims)\n",
    "\n",
    "    for i in range(0, num_iterations):\n",
    "\n",
    "        A_last, caches = L_model_forward(X, params)\n",
    "        cost = compute_cost(A_last, Y)\n",
    "        grads = L_model_backward(A_last, Y, caches)\n",
    "\n",
    "        if (i > 800 and i<1700):\n",
    "            alpha1 = 0.80 * alpha\n",
    "            params = update_params(params, grads, alpha1)\n",
    "        elif(i>=1700):\n",
    "            alpha1 = 0.50 * alpha\n",
    "            params = update_params(params, grads, alpha1)\n",
    "        else:\n",
    "            params = update_params(params, grads, alpha)\n",
    "\n",
    "        if print_cost and i % 100 == 0:\n",
    "            print(\"Cost after iteration %i: %f\" % (i, cost))\n",
    "        if print_cost and i % 100 == 0:\n",
    "            costs.append(cost)\n",
    "    predictions = predict(params, X)\n",
    "    print(\"Train accuracy: {} %\", sum(predictions == Y_real) / (float(len(Y_real))) * 100)\n",
    "    predictions = predict(params, test_x)\n",
    "    print(\"Test accuracy: {} %\", sum(predictions == test_y) / (float(len(test_y))) * 100)\n",
    "\n",
    "    #plt.plot(np.squeeze(costs))\n",
    "    #plt.ylabel('cost')\n",
    "    #plt.xlabel('iterations (per tens)')\n",
    "    #plt.title(\"Learning rate =\" + str(alpha))\n",
    "    #plt.show()\n",
    "\n",
    "    return(params)"
   ]
  },
  {
   "cell_type": "code",
   "execution_count": 16,
   "metadata": {},
   "outputs": [],
   "source": [
    "def predict(parameters, X):\n",
    "    A_last, cache = L_model_forward(X, parameters)\n",
    "    predictions = np.argmax(A_last, axis = 0)\n",
    "    return(predictions)"
   ]
  }
 ],
 "metadata": {
  "kernelspec": {
   "display_name": "Python 3",
   "language": "python",
   "name": "python3"
  },
  "language_info": {
   "codemirror_mode": {
    "name": "ipython",
    "version": 3
   },
   "file_extension": ".py",
   "mimetype": "text/x-python",
   "name": "python",
   "nbconvert_exporter": "python",
   "pygments_lexer": "ipython3",
   "version": "3.7.0"
  }
 },
 "nbformat": 4,
 "nbformat_minor": 2
}
