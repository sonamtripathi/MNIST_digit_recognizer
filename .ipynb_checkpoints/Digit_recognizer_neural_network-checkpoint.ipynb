{
 "cells": [
  {
   "cell_type": "code",
   "execution_count": 1,
   "metadata": {},
   "outputs": [],
   "source": [
    "import numpy as np\n",
    "import matplotlib.pyplot as plt"
   ]
  },
  {
   "cell_type": "code",
   "execution_count": 2,
   "metadata": {},
   "outputs": [],
   "source": [
    "def softmax(z):\n",
    "    z -= np.max(z)\n",
    "    sm = (np.exp(z).T/np.sum(np.exp(z), axis = 1))\n",
    "    return(sm)"
   ]
  },
  {
   "cell_type": "code",
   "execution_count": 3,
   "metadata": {},
   "outputs": [],
   "source": [
    "def layers(X,Y):\n",
    "    \"\"\"\n",
    "        :param X:\n",
    "        :param Y:\n",
    "        \n",
    "    \"\"\"\n",
    "    n_x = X.shape[0]\n",
    "    n_y = Y.shape[0]\n",
    "    return(n_x, n_y)\n",
    "    "
   ]
  },
  {
   "cell_type": "code",
   "execution_count": 4,
   "metadata": {},
   "outputs": [],
   "source": [
    "def initialize_nn(n_x, n_h, n_y):\n",
    "    \"\"\"\n",
    "        :param n_x:\n",
    "        :param n_h:\n",
    "        :param n_y:\n",
    "    \"\"\"\n",
    "    np.random.seed(2)\n",
    "    W1 = np.random.randn(n_h, n_x) * 0.01\n",
    "    b1 = np.random.rand(n_h, 1)\n",
    "    W2 = np.random.rand(n_y, n_h)\n",
    "    b2 = np.random.rand(n_y, 1)\n",
    "    parameters = {\"W1\": W1,\n",
    "                 \"b1\": b1,\n",
    "                 \"W2\": W2,\n",
    "                 \"b2\" : b2}\n",
    "    return(parameters)"
   ]
  },
  {
   "cell_type": "code",
   "execution_count": 5,
   "metadata": {},
   "outputs": [],
   "source": [
    "def forward_prop(X, parameters):\n",
    "    W1 = parameters['W1']\n",
    "    b1 = parameters['b1']\n",
    "    W2 = parameters['W2']\n",
    "    b2 = parameters['b2']\n",
    "    \n",
    "    Z1 = np.dot(W1, X) + b1\n",
    "    A1 = np.tanh(Z1)\n",
    "    Z2 = np.dot(W2, A1) + b2\n",
    "    A2 = softmax(Z2.T)\n",
    "    \n",
    "    cache = {\"Z1\": Z1,\n",
    "            \"A1\": A1,\n",
    "            \"Z2\": Z2,\n",
    "            \"A2\": A2}\n",
    "    return(A2, cache)\n",
    "    "
   ]
  },
  {
   "cell_type": "code",
   "execution_count": 6,
   "metadata": {},
   "outputs": [],
   "source": [
    "def compute_cost(A2, Y, parameters):\n",
    "    m = Y.shape[1]\n",
    "    W1 = parameters['W1']\n",
    "    W2 = parameters['W2']\n",
    "    logprobs = np.multiply(np.log(A2), Y)\n",
    "    cost = -np.sum(logprobs) / m\n",
    "    cost = np.squeeze(cost)\n",
    "    return(cost)"
   ]
  },
  {
   "cell_type": "code",
   "execution_count": 7,
   "metadata": {},
   "outputs": [],
   "source": [
    "def back_prop(parameters, cache, X, Y):\n",
    "    m = Y.shape[1]\n",
    "    W1 = parameters['W1']\n",
    "    W2 = parameters['W2']\n",
    "    A1 = cache['A1']\n",
    "    A2 = cache['A2']\n",
    "    \n",
    "    dZ2 = A2 - Y\n",
    "    dW2 = (1/m) * np.dot(dZ2, A1.T)\n",
    "    db2 = (1/m) * np.sum(dZ2, axis = 1, keepdims = True)\n",
    "    \n",
    "    dZ1 = np.multiply(np.dot(W2.T, dZ2) , 1 - np.square(A1))\n",
    "    dW1 = (1/m) * np.dot(dZ1, X.T)\n",
    "    db1 = (1/m) * np.sum(dZ1, axis = 1, keepdims = True)\n",
    "    \n",
    "    grads = {\"dW1\": dW1,\n",
    "            \"db1\": db1,\n",
    "            \"dW2\": dW2,\n",
    "            \"db2\": db2}\n",
    "    return(grads)    "
   ]
  },
  {
   "cell_type": "code",
   "execution_count": 8,
   "metadata": {},
   "outputs": [],
   "source": [
    "def update_params(parameters, grads, alpha):\n",
    "    W1 = parameters['W1']\n",
    "    b1 = parameters['b1']\n",
    "    W2 = parameters['W2']\n",
    "    b2 = parameters['b2']\n",
    "    \n",
    "    dW1 = grads['dW1']\n",
    "    db1 = grads['db1']\n",
    "    dW2 = grads['dW2']\n",
    "    db2 = grads['db2']\n",
    "    \n",
    "    W1 = W1 - alpha * dW1\n",
    "    b1 = b1 - alpha * db1\n",
    "    W2 = W2 - alpha * dW2\n",
    "    b2 = b2 - alpha * db2\n",
    "    \n",
    "    parameters = {\"W1\": W1,\n",
    "                 \"b1\": b1,\n",
    "                 \"W2\": W2,\n",
    "                 \"b2\": b2}\n",
    "    return(parameters)"
   ]
  },
  {
   "cell_type": "code",
   "execution_count": 9,
   "metadata": {},
   "outputs": [],
   "source": [
    "def model_nn(X, Y, Y_real, test_x, test_y, n_h, num_iters, alpha, print_cost):\n",
    "    np.random.seed(3)\n",
    "    n_x, n_y = layers(X, Y)\n",
    "    parameters = initialize_nn(n_x, n_h, n_y)\n",
    "    W1 = parameters['W1']\n",
    "    b1 = parameters['b1']\n",
    "    W2 = parameters['W2']\n",
    "    b2 = parameters['b2']\n",
    "    \n",
    "    print(\"Neural Network Result\")\n",
    "    costs = []\n",
    "    for i in range(0, num_iters):\n",
    "        A2, cache = forward_prop(X, parameters)\n",
    "        cost = compute_cost(A2, Y, parameters)\n",
    "        grads = back_prop(parameters, cache, X, Y)\n",
    "        if(i > 1500):\n",
    "            alpha1 = 0.95 * alpha\n",
    "            parameters = update_params(parameters, grads, alpha1)\n",
    "        else:\n",
    "            parameters = update_params(parameters, grads, alpha)\n",
    "            \n",
    "        if i%100 == 0:\n",
    "            costs.append(cost)\n",
    "        if print_cost and i%100 == 0:\n",
    "            print(\"Cost after iteration for %i: %f\" % (i,cost))\n",
    "    \n",
    "    predictions = predict_nn(parameters, X)\n",
    "    print(\"Train accuracy: {} %\", sum(predictions == Y_real)/ (float(len(Y_real))) * 100)\n",
    "    predictions = predict_nn(parameters, test_x)\n",
    "    print(\"Train accuracy: {} %\", sum(predictions == test_y)/ (float(len(test_y))) * 100)\n",
    "    \n",
    "    return(parameters)\n",
    "\n",
    " "
   ]
  },
  {
   "cell_type": "code",
   "execution_count": 10,
   "metadata": {},
   "outputs": [],
   "source": [
    "def predict_nn(parameters, X):\n",
    "    A2, cache = forward_prop(X, parameters)\n",
    "    predictions = np.argmax(A2, axis = 0)\n",
    "    return(predictions)"
   ]
  }
 ],
 "metadata": {
  "kernelspec": {
   "display_name": "Python 3",
   "language": "python",
   "name": "python3"
  },
  "language_info": {
   "codemirror_mode": {
    "name": "ipython",
    "version": 3
   },
   "file_extension": ".py",
   "mimetype": "text/x-python",
   "name": "python",
   "nbconvert_exporter": "python",
   "pygments_lexer": "ipython3",
   "version": "3.7.0"
  }
 },
 "nbformat": 4,
 "nbformat_minor": 2
}
